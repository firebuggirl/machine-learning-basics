{
 "cells": [
  {
   "cell_type": "code",
   "execution_count": null,
   "metadata": {},
   "outputs": [],
   "source": [
    "import pandas as pd\n",
    "from sklearn.model_selection import train_test_split\n",
    "from sklearn import ensemble\n",
    "from sklearn.metrics import mean_absolute_error\n",
    "from sklearn.externals import joblib"
   ]
  },
  {
   "cell_type": "code",
   "execution_count": null,
   "metadata": {},
   "outputs": [],
   "source": [
    "df = pd.read_csv(\"./data/melbourne-housing-market/Melbourne_housing_FULL.csv\")"
   ]
  },
  {
   "cell_type": "code",
   "execution_count": null,
   "metadata": {},
   "outputs": [],
   "source": [
    "# Get 1st 10 items in dataframe\n",
    "df.head(10)\n",
    "# Get # 100th (which is really 101...zero indexing...) listing\n",
    "# df.iloc[100]"
   ]
  },
  {
   "cell_type": "code",
   "execution_count": null,
   "metadata": {},
   "outputs": [],
   "source": [
    "# print dtatset's column titles \n",
    "df.columns"
   ]
  },
  {
   "cell_type": "code",
   "execution_count": null,
   "metadata": {},
   "outputs": [],
   "source": [
    "# Scrubbing process\n",
    "# delete unneeded columns - minimize non-numberic info + redundancy + irrelevant info\n",
    "# ignore misspellings for now...\n",
    "del df['Address']\n",
    "del df['Method']\n",
    "del df['SellerG']\n",
    "del df['Date']\n",
    "del df['Postcode']\n",
    "del df['Lattitude']\n",
    "del df['Longtitude']\n",
    "del df['Regionname']\n",
    "del df['Propertycount']"
   ]
  },
  {
   "cell_type": "markdown",
   "metadata": {},
   "source": [
    "Remaining 11 independent variables = `x`\n",
    "12th (dependent) variable (price) = `y`\n",
    "Decision Trees (+ gradient boositng & random forsests) are adept @ managing lg + high dimensional datasets w/ many variables"
   ]
  },
  {
   "cell_type": "code",
   "execution_count": null,
   "metadata": {},
   "outputs": [],
   "source": [
    "## Remove missing values\n",
    "## Ignore for now...for simplicity?\n",
    "# Pandas method to remove rows w/ missing values \n",
    "\n",
    "df.dropna(axis = 0, how = 'any', thresh = None, subset = None,inplace = True)\n"
   ]
  },
  {
   "cell_type": "code",
   "execution_count": null,
   "metadata": {},
   "outputs": [],
   "source": [
    "# One hot encode non-numeric data \n",
    "features_df = pd.get_dummies(df, columns = ['Suburb', 'CouncilArea', 'Type'])"
   ]
  },
  {
   "cell_type": "code",
   "execution_count": null,
   "metadata": {},
   "outputs": [],
   "source": [
    "# remove `Price` column because = our dependent variable and needs to be separated\n",
    "# from independent `x` variables\n",
    "del features_df['Price']\n",
    "\n",
    "# added from bonus chapter on individual property prediction(s)\n",
    "# use this temorarily to print variables in correct order\n",
    "# copy and paste the list and add it to the second notebook to configure \n",
    "# the parameters of the target property. The code used to print this list \n",
    "# of variables can then be removed.\n",
    "# cols = features_df.columns.tolist()\n",
    "\n",
    "# print(\"house_to_value = [\")\n",
    "# for item in cols:\n",
    "#     print(\"\\t0, \"+\"#\"+item)\n",
    "# print(\"]\")"
   ]
  },
  {
   "cell_type": "code",
   "execution_count": null,
   "metadata": {},
   "outputs": [],
   "source": [
    "# create `x` & `y` arrays\n",
    "X = features_df.values \n",
    "y = df['Price'].values "
   ]
  },
  {
   "cell_type": "code",
   "execution_count": null,
   "metadata": {},
   "outputs": [],
   "source": [
    "# Split dataset into training + testing \n",
    "X_train, X_test, y_train, y_test = train_test_split(X,y, test_size = 0.3, shuffle = True)"
   ]
  },
  {
   "cell_type": "code",
   "execution_count": null,
   "metadata": {},
   "outputs": [],
   "source": [
    "# Select an algorithm + configure its parameters \n",
    "# `n_estimators`: int (default=100) => The number of boosting stages (trees) to perform\n",
    "# `learning_rate`: float, optional (default=0.1) => shrinks the contribution of each tree by learning_rate. There is a trade-off between learning_rate and n_estimators.\n",
    "# `max_depth`:  integer, optional (default=3) =limits the number of nodes in the tree.\n",
    "# `min_samples_split`:  int, float, optional (default=2) =>  minimum number of samples required to split an internal node:\n",
    "# `min_samples_leaf`: int, float, optional (default=1) => minimum number of samples required to be at a leaf node\n",
    "# `max_features`: int, float, string or None, optional (default=None) => number of features to consider when looking for the best split\n",
    "#        => If float, then max_features is a fraction and int(max_features * n_features) features are considered at each split.\n",
    "# `loss` => calculates error rate => huber protects against outliers and anomolies\n",
    "# https://scikit-learn.org/stable/modules/generated/sklearn.ensemble.GradientBoostingRegressor.html\n",
    "model = ensemble.GradientBoostingRegressor(\n",
    "    n_estimators = 150,\n",
    "    learning_rate = 0.1,\n",
    "    max_depth = 30,\n",
    "    min_samples_split = 4,\n",
    "    min_samples_leaf = 6,\n",
    "    max_features = 0.6,\n",
    "    loss = 'huber'\n",
    ")"
   ]
  },
  {
   "cell_type": "code",
   "execution_count": null,
   "metadata": {},
   "outputs": [],
   "source": [
    "# Commence model training process \n",
    "model.fit(X_train, y_train)"
   ]
  },
  {
   "cell_type": "code",
   "execution_count": null,
   "metadata": {},
   "outputs": [],
   "source": [
    "# Save training model as a file ...enables future use w/out having to rebuild model\n",
    "joblib.dump(model, 'house_trained_model.pk')"
   ]
  },
  {
   "cell_type": "code",
   "execution_count": null,
   "metadata": {},
   "outputs": [],
   "source": [
    "# Evaluate Results + check for accuracy (up to 2 decimal places)\n",
    "mse = mean_absolute_error(y_train, model.predict(X_train))\n",
    "print(\"Training set Mean Absolute Error: %.2f\" % mse)\n",
    "\n",
    "mse = mean_absolute_error(y_test, model.predict(X_test))\n",
    "print(\"Test set Mean Absolute Error: %.2f\" % mse)"
   ]
  },
  {
   "cell_type": "markdown",
   "metadata": {},
   "source": [
    "- On average the training set miscalulated the actual property value by a mere $28,961.66\n",
    "\n",
    "        - quite an accurate prediction\n",
    "        \n",
    "- The test set miscalulated by $172,057.81\n",
    "\n",
    "        - results are less accurate\n",
    "        \n",
    "        - test data => likely to carry slightly different patterns + new outliers & anomolies\n",
    "        \n",
    "- a high discrepancy between the training and test data = sign of `overfitting`\n",
    "\n",
    "\n",
    "- `max_depth = 30` => tends towards overfitting \n",
    "\n",
    "- training and test data are shuffled randomly\n",
    "\n",
    "\n"
   ]
  },
  {
   "cell_type": "markdown",
   "metadata": {},
   "source": [
    "#### Model Optimization w/ Supervised Learning\n",
    "\n",
    "- change `max_depth` from `30` to `5`\n",
    "\n",
    "        => also reduces processing time\n",
    "\n",
    "- set `n_estimators` to `250` from `150`\n",
    "\n",
    "        => smaller gap between training and test \n",
    " \n",
    "- better to test/modify hyperparemeters individually \n",
    "\n",
    "- when selecting/modifying/keeping/dropping features,\n",
    "  also better to test/modify individually \n",
    "  \n",
    "  \n",
    "- an alternative to manual trial and error: \n",
    "\n",
    "\n",
    "        - `grid search`\n",
    "        \n",
    "                - list a range of configurations to test for each parameter\n",
    "                \n",
    "                - voting process decides best model \n",
    "\n",
    "        \n",
    "        \n",
    "        \n",
    "        "
   ]
  },
  {
   "cell_type": "code",
   "execution_count": null,
   "metadata": {},
   "outputs": [],
   "source": []
  }
 ],
 "metadata": {
  "kernelspec": {
   "display_name": "Python 3",
   "language": "python",
   "name": "python3"
  },
  "language_info": {
   "codemirror_mode": {
    "name": "ipython",
    "version": 3
   },
   "file_extension": ".py",
   "mimetype": "text/x-python",
   "name": "python",
   "nbconvert_exporter": "python",
   "pygments_lexer": "ipython3",
   "version": "3.6.6"
  }
 },
 "nbformat": 4,
 "nbformat_minor": 2
}
